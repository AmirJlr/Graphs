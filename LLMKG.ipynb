{
  "nbformat": 4,
  "nbformat_minor": 0,
  "metadata": {
    "colab": {
      "provenance": [],
      "authorship_tag": "ABX9TyNhR0e7aFH2tHQF8IntAHak",
      "include_colab_link": true
    },
    "kernelspec": {
      "name": "python3",
      "display_name": "Python 3"
    },
    "language_info": {
      "name": "python"
    }
  },
  "cells": [
    {
      "cell_type": "markdown",
      "metadata": {
        "id": "view-in-github",
        "colab_type": "text"
      },
      "source": [
        "<a href=\"https://colab.research.google.com/github/AmirJlr/KnowledgeGraphs/blob/master/LLMKG.ipynb\" target=\"_parent\"><img src=\"https://colab.research.google.com/assets/colab-badge.svg\" alt=\"Open In Colab\"/></a>"
      ]
    },
    {
      "cell_type": "code",
      "execution_count": 28,
      "metadata": {
        "id": "AmdNA07KFf2k"
      },
      "outputs": [],
      "source": [
        "from google.colab import userdata\n",
        "import os\n",
        "\n",
        "os.environ['GOOGLE_API_KEY'] = userdata.get('GOOGLE_API_KEY')"
      ]
    },
    {
      "cell_type": "code",
      "source": [
        "!pip install -qU langchain langchain-experimental langchain-google-genai pyvis"
      ],
      "metadata": {
        "id": "DRKEm4LyKAvE"
      },
      "execution_count": 29,
      "outputs": []
    },
    {
      "cell_type": "code",
      "source": [
        "from langchain_experimental.graph_transformers import LLMGraphTransformer\n",
        "from langchain_core.documents import Document\n",
        "from langchain_google_genai import ChatGoogleGenerativeAI\n",
        "\n",
        "llm = ChatGoogleGenerativeAI(temperature=0, model=\"models/gemini-2.0-flash\")\n",
        "\n",
        "graph_transformer = LLMGraphTransformer(llm=llm)"
      ],
      "metadata": {
        "id": "81h7rDIeQLiQ"
      },
      "execution_count": 30,
      "outputs": []
    },
    {
      "cell_type": "code",
      "source": [
        "text = \"\"\"\n",
        "Real Madrid Club de Fútbol, commonly referred to as Real Madrid, is a Spanish professional football club based in Madrid. The club competes in La Liga, the top tier of Spanish football.\n",
        "\n",
        "Founded in 1902 as Madrid Football Club, the club has traditionally worn a white home kit since its inception. The honorific title 'Real' is Spanish for \"Royal\" and was bestowed to the club by King Alfonso XIII in 1920 along with the crown in the club crest. Real Madrid have played their home matches in the 78,297-capacity Santiago Bernabéu in Madrid since 1947. Unlike most European sporting clubs, Real Madrid's members (socios) have owned and operated the club throughout its history. The official Madrid anthem is the \"Hala Madrid y nada más\", written by RedOne and Manuel Jabois.[8] The club is one of the most widely supported in the world and is the most followed football club on social media according to the CIES Football Observatory as of 2024.[9][10] It was estimated to be worth $6.6 billion in 2024, making it the world's most valuable football club.[11] In 2024, Real Madrid became the first football club to make €1 billion ($1.08bn) in revenue according to the club's announcement.[12]\n",
        "\n",
        "Real Madrid are one of the most successful football clubs in the world and most successful in Europe. In domestic football, the club has won 71 trophies; a record 36 La Liga titles, 20 Copa del Rey, 13 Supercopa de España, a Copa Eva Duarte and a Copa de la Liga.[13] In International football, Real Madrid have won a record 35 trophies: a record 15 European Cup/UEFA Champions League titles, a record six UEFA Super Cups, two UEFA Cups, a joint record two Latin Cups, a record one Iberoamerican Cup, and a record nine FIFA Club World championships.[note 1] Madrid was ranked joint first a record number of times in the International Federation of Football History & Statistics (IFFHS) Club World Ranking for the years 2000, 2002, 2014, 2017, and 2024.[17] In UEFA, Madrid ranks first in the all-time club ranking.[18][19]\n",
        "\n",
        "Being one of the three founding members of La Liga that have never been relegated from the top division since its inception in 1929 (along with Athletic Bilbao and Barcelona), Real Madrid has many long-standing rivalries, most notably El Clásico with Barcelona and El Derbi Madrileño with Atlético Madrid. The club established itself as a major force in both Spanish and European football during the 1950s and 60s, winning five consecutive and six overall European Cups and reaching a further two finals. This success was replicated on the domestic front, with Madrid winning 12 league titles in 16 years. This team, which included Alfredo Di Stéfano, Ferenc Puskás, Paco Gento and Raymond Kopa is considered, by some in the sport, to be the greatest of all time.[20][21] Real Madrid is known for its Galácticos policy, which involves signing the world's best players, such as Ronaldo, Zinedine Zidane and David Beckham to create a superstar team.[22] The term 'Galácticos policy' generally refers to the two eras of Florentino Pérez's presidency of the club (2000–2006 and 2009–2018); however, players brought in just before his tenure are sometimes considered to be part of the Galácticos legacy. A notable example is Steve McManaman, who like many other players also succeeded under the policy.[23] On 26 June 2009, Madrid signed Cristiano Ronaldo for a record-breaking £80 million (€94 million);[24] he became both the club's and history's all-time top goalscorer.[25][26][27][28] Madrid have recently focused on signing young talents such as Vinícius Júnior, Rodrygo, and Jude Bellingham.[29]\n",
        "\n",
        "Real Madrid is recognised as the greatest football club of the 20th century by FIFA and as the best European club during the same timeframe by the IFFHS,[30] while also receiving the FIFA Centennial Order of Merit in 2004.[31] Real Madrid has the highest participations in the European Cup/UEFA Champions League (55),[18] a tournament in which they hold the overall record for the most wins, most draws and most goals scored.[32] Real Madrid is the only club to have won three consecutive titles (three-peat) in the European Cup/UEFA Champions League twice, first in 1955–56, 1956–57, and 1957–58, and second in 2015–16, 2016–17 and 2017–18 and was the first and the only club to win La Décima (in 2013–14).[33] In June 2024, they won a record-extending 15th Champions League title (the sixth in eleven seasons), recognised as such by Guinness World Records.[34] Real Madrid is the first club across all of Europe's top-five leagues to win 100 trophies in all competitions.[35] As of February 2025, Real Madrid are ranked 1st in Europe, according to the UEFA club rankings as well as first in last 10 years (2013–2023) overall.[36][37]\n",
        "\n",
        "\"\"\""
      ],
      "metadata": {
        "id": "JuIep6jVRNQ9"
      },
      "execution_count": 31,
      "outputs": []
    },
    {
      "cell_type": "code",
      "source": [
        "documents = [Document(page_content=text)]\n",
        "graph_documents = await graph_transformer.aconvert_to_graph_documents(documents)"
      ],
      "metadata": {
        "id": "3twRU1qGRh4r"
      },
      "execution_count": 32,
      "outputs": []
    },
    {
      "cell_type": "code",
      "source": [
        "print(f\"Nodes:{graph_documents[0].nodes}\")\n",
        "print(f\"Relationships:{graph_documents[0].relationships}\")"
      ],
      "metadata": {
        "colab": {
          "base_uri": "https://localhost:8080/"
        },
        "id": "DTypjQKoUDH-",
        "outputId": "88ad329c-1b51-4315-d0c4-fe8f02439f6b"
      },
      "execution_count": 33,
      "outputs": [
        {
          "output_type": "stream",
          "name": "stdout",
          "text": [
            "Nodes:[Node(id='Real Madrid Club De Fútbol', type='Organization', properties={}), Node(id='Madrid', type='City', properties={}), Node(id='La Liga', type='League', properties={}), Node(id='Madrid Football Club', type='Organization', properties={}), Node(id='King Alfonso Xiii', type='Person', properties={}), Node(id='Santiago Bernabéu', type='Stadium', properties={}), Node(id='Redone', type='Person', properties={}), Node(id='Manuel Jabois', type='Person', properties={}), Node(id='Cies Football Observatory', type='Organization', properties={}), Node(id='Athletic Bilbao', type='Organization', properties={}), Node(id='Barcelona', type='Organization', properties={}), Node(id='Atlético Madrid', type='Organization', properties={}), Node(id='Alfredo Di Stéfano', type='Person', properties={}), Node(id='Ferenc Puskás', type='Person', properties={}), Node(id='Paco Gento', type='Person', properties={}), Node(id='Raymond Kopa', type='Person', properties={}), Node(id='Ronaldo', type='Person', properties={}), Node(id='Zinedine Zidane', type='Person', properties={}), Node(id='David Beckham', type='Person', properties={}), Node(id='Florentino Pérez', type='Person', properties={}), Node(id='Steve Mcmanaman', type='Person', properties={}), Node(id='Cristiano Ronaldo', type='Person', properties={}), Node(id='Vinícius Júnior', type='Person', properties={}), Node(id='Rodrygo', type='Person', properties={}), Node(id='Jude Bellingham', type='Person', properties={}), Node(id='Fifa', type='Organization', properties={}), Node(id='Iffhs', type='Organization', properties={}), Node(id='Uefa', type='Organization', properties={})]\n",
            "Relationships:[Relationship(source=Node(id='Real Madrid Club De Fútbol', type='Organization', properties={}), target=Node(id='Madrid', type='City', properties={}), type='LOCATED_IN', properties={}), Relationship(source=Node(id='Real Madrid Club De Fútbol', type='Organization', properties={}), target=Node(id='La Liga', type='League', properties={}), type='MEMBER_OF', properties={}), Relationship(source=Node(id='Real Madrid Club De Fútbol', type='Organization', properties={}), target=Node(id='Madrid Football Club', type='Organization', properties={}), type='FOUNDED_AS', properties={}), Relationship(source=Node(id='King Alfonso Xiii', type='Person', properties={}), target=Node(id='Real Madrid Club De Fútbol', type='Organization', properties={}), type='BESTOWED', properties={}), Relationship(source=Node(id='Real Madrid Club De Fútbol', type='Organization', properties={}), target=Node(id='Santiago Bernabéu', type='Stadium', properties={}), type='HOME_STADIUM', properties={}), Relationship(source=Node(id='Redone', type='Person', properties={}), target=Node(id='Real Madrid Club De Fútbol', type='Organization', properties={}), type='WRITER', properties={}), Relationship(source=Node(id='Manuel Jabois', type='Person', properties={}), target=Node(id='Real Madrid Club De Fútbol', type='Organization', properties={}), type='WRITER', properties={}), Relationship(source=Node(id='Real Madrid Club De Fútbol', type='Organization', properties={}), target=Node(id='Cies Football Observatory', type='Organization', properties={}), type='FOLLOWED_BY', properties={}), Relationship(source=Node(id='Real Madrid Club De Fútbol', type='Organization', properties={}), target=Node(id='Athletic Bilbao', type='Organization', properties={}), type='RIVAL', properties={}), Relationship(source=Node(id='Real Madrid Club De Fútbol', type='Organization', properties={}), target=Node(id='Barcelona', type='Organization', properties={}), type='RIVAL', properties={}), Relationship(source=Node(id='Real Madrid Club De Fútbol', type='Organization', properties={}), target=Node(id='Atlético Madrid', type='Organization', properties={}), type='RIVAL', properties={}), Relationship(source=Node(id='Alfredo Di Stéfano', type='Person', properties={}), target=Node(id='Real Madrid Club De Fútbol', type='Organization', properties={}), type='MEMBER_OF', properties={}), Relationship(source=Node(id='Ferenc Puskás', type='Person', properties={}), target=Node(id='Real Madrid Club De Fútbol', type='Organization', properties={}), type='MEMBER_OF', properties={}), Relationship(source=Node(id='Paco Gento', type='Person', properties={}), target=Node(id='Real Madrid Club De Fútbol', type='Organization', properties={}), type='MEMBER_OF', properties={}), Relationship(source=Node(id='Raymond Kopa', type='Person', properties={}), target=Node(id='Real Madrid Club De Fútbol', type='Organization', properties={}), type='MEMBER_OF', properties={}), Relationship(source=Node(id='Ronaldo', type='Person', properties={}), target=Node(id='Real Madrid Club De Fútbol', type='Organization', properties={}), type='MEMBER_OF', properties={}), Relationship(source=Node(id='Zinedine Zidane', type='Person', properties={}), target=Node(id='Real Madrid Club De Fútbol', type='Organization', properties={}), type='MEMBER_OF', properties={}), Relationship(source=Node(id='David Beckham', type='Person', properties={}), target=Node(id='Real Madrid Club De Fútbol', type='Organization', properties={}), type='MEMBER_OF', properties={}), Relationship(source=Node(id='Steve Mcmanaman', type='Person', properties={}), target=Node(id='Real Madrid Club De Fútbol', type='Organization', properties={}), type='MEMBER_OF', properties={}), Relationship(source=Node(id='Cristiano Ronaldo', type='Person', properties={}), target=Node(id='Real Madrid Club De Fútbol', type='Organization', properties={}), type='MEMBER_OF', properties={}), Relationship(source=Node(id='Vinícius Júnior', type='Person', properties={}), target=Node(id='Real Madrid Club De Fútbol', type='Organization', properties={}), type='MEMBER_OF', properties={}), Relationship(source=Node(id='Rodrygo', type='Person', properties={}), target=Node(id='Real Madrid Club De Fútbol', type='Organization', properties={}), type='MEMBER_OF', properties={}), Relationship(source=Node(id='Jude Bellingham', type='Person', properties={}), target=Node(id='Real Madrid Club De Fútbol', type='Organization', properties={}), type='MEMBER_OF', properties={}), Relationship(source=Node(id='Real Madrid Club De Fútbol', type='Organization', properties={}), target=Node(id='Fifa', type='Organization', properties={}), type='RECOGNIZED_BY', properties={}), Relationship(source=Node(id='Real Madrid Club De Fútbol', type='Organization', properties={}), target=Node(id='Iffhs', type='Organization', properties={}), type='RECOGNIZED_BY', properties={}), Relationship(source=Node(id='Real Madrid Club De Fútbol', type='Organization', properties={}), target=Node(id='Uefa', type='Organization', properties={}), type='MEMBER_OF', properties={})]\n"
          ]
        }
      ]
    },
    {
      "cell_type": "markdown",
      "source": [
        "## Visualization"
      ],
      "metadata": {
        "id": "0pAIpIReVCQ7"
      }
    },
    {
      "cell_type": "code",
      "source": [
        "import os\n",
        "import webbrowser\n",
        "from pyvis.network import Network\n",
        "\n",
        "def visualize_graph(graph_documents, file_name):\n",
        "    # Create network\n",
        "    net = Network(height=\"1200px\", width=\"100%\", directed=True,\n",
        "                  notebook=False, bgcolor=\"#222222\", font_color=\"white\")\n",
        "\n",
        "    nodes = graph_documents[0].nodes\n",
        "    relationships = graph_documents[0].relationships\n",
        "\n",
        "    # Build lookup for valid nodes\n",
        "    node_dict = {node.id: node for node in nodes}\n",
        "\n",
        "    # Filter out invalid edges and collect valid node IDs\n",
        "    valid_edges = []\n",
        "    valid_node_ids = set()\n",
        "    for rel in relationships:\n",
        "        if rel.source.id in node_dict and rel.target.id in node_dict:\n",
        "            valid_edges.append(rel)\n",
        "            valid_node_ids.update([rel.source.id, rel.target.id])\n",
        "\n",
        "    # Track which nodes are part of any relationship\n",
        "    connected_node_ids = set()\n",
        "    for rel in relationships:\n",
        "        connected_node_ids.add(rel.source.id)\n",
        "        connected_node_ids.add(rel.target.id)\n",
        "\n",
        "    # Add valid nodes\n",
        "    for node_id in valid_node_ids:\n",
        "        node = node_dict[node_id]\n",
        "        try:\n",
        "            net.add_node(node.id, label=node.id, title=node.type, group=node.type)\n",
        "        except Exception as e:\n",
        "            print(f\"Error adding node {node.id}: {str(e)}\")\n",
        "\n",
        "    # Add valid edges\n",
        "    for rel in valid_edges:\n",
        "        try:\n",
        "            net.add_edge(rel.source.id, rel.target.id, label=rel.type.lower())\n",
        "        except Exception as e:\n",
        "            print(f\"Error adding edge from {rel.source.id} to {rel.target.id}: {str(e)}\")\n",
        "\n",
        "    # Configure physics\n",
        "    net.set_options(\"\"\"\n",
        "        {\n",
        "            \"physics\": {\n",
        "                \"forceAtlas2Based\": {\n",
        "                    \"gravitationalConstant\": -100,\n",
        "                    \"centralGravity\": 0.01,\n",
        "                    \"springLength\": 200,\n",
        "                    \"springConstant\": 0.08\n",
        "                },\n",
        "                \"minVelocity\": 0.75,\n",
        "                \"solver\": \"forceAtlas2Based\"\n",
        "            },\n",
        "            \"nodes\": {\n",
        "                \"color\": {\n",
        "                    \"highlight\": {\n",
        "                        \"background\": \"rgba(255,0,0,0.5)\",\n",
        "                        \"border\": \"rgba(255,0,0,1)\"\n",
        "                    },\n",
        "                    \"hover\": {\n",
        "                        \"background\": \"rgba(0,255,0,0.5)\",\n",
        "                        \"border\": \"rgba(0,255,0,1)\"\n",
        "                    }\n",
        "                }\n",
        "            }\n",
        "        }\n",
        "    \"\"\")\n",
        "\n",
        "    net.save_graph(file_name)\n",
        "    print(f\"Graph saved to {os.path.abspath(file_name)}\")\n",
        "\n",
        "    # Try to open in browser\n",
        "    try:\n",
        "        webbrowser.open(f\"file://{os.path.abspath(file_name)}\")\n",
        "    except Exception as e:\n",
        "        print(f\"Could not open browser automatically: {str(e)}\")\n",
        "\n",
        "\n",
        "# Example usage:\n",
        "# visualize_graph(graph_documents)"
      ],
      "metadata": {
        "id": "EpLHLzDpU5ed"
      },
      "execution_count": 34,
      "outputs": []
    },
    {
      "cell_type": "code",
      "source": [
        "# Run the function\n",
        "visualize_graph(graph_documents, \"graph_documents.html\")"
      ],
      "metadata": {
        "colab": {
          "base_uri": "https://localhost:8080/"
        },
        "id": "IJaGq_ziVMAm",
        "outputId": "08607534-9e9c-4f06-9ee2-af93f966094a"
      },
      "execution_count": 35,
      "outputs": [
        {
          "output_type": "stream",
          "name": "stdout",
          "text": [
            "Graph saved to /content/graph_documents.html\n"
          ]
        }
      ]
    },
    {
      "cell_type": "markdown",
      "source": [
        "# Extract specific types of nodes"
      ],
      "metadata": {
        "id": "X9g9uosWVbqG"
      }
    },
    {
      "cell_type": "code",
      "source": [
        "allowed_nodes = [\"Organization\", \"Location\"]\n",
        "graph_transformer_nodes_defined = LLMGraphTransformer(llm=llm, allowed_nodes=allowed_nodes)\n",
        "graph_documents_nodes_defined = await graph_transformer_nodes_defined.aconvert_to_graph_documents(documents)"
      ],
      "metadata": {
        "id": "jGs8rQGoVOeY"
      },
      "execution_count": 36,
      "outputs": []
    },
    {
      "cell_type": "code",
      "source": [
        "print(f\"Nodes:{graph_documents_nodes_defined[0].nodes}\")\n",
        "print(f\"Relationships:{graph_documents_nodes_defined[0].relationships}\")"
      ],
      "metadata": {
        "colab": {
          "base_uri": "https://localhost:8080/"
        },
        "id": "WkOp-rufV0c5",
        "outputId": "efe0a678-8035-414c-fdb0-7bdf1e0aeb47"
      },
      "execution_count": 37,
      "outputs": [
        {
          "output_type": "stream",
          "name": "stdout",
          "text": [
            "Nodes:[Node(id='Real Madrid', type='Organization', properties={}), Node(id='Madrid', type='Location', properties={}), Node(id='Santiago Bernabéu', type='Location', properties={}), Node(id='Fifa', type='Organization', properties={}), Node(id='Iffhs', type='Organization', properties={}), Node(id='Athletic Bilbao', type='Organization', properties={}), Node(id='Barcelona', type='Organization', properties={}), Node(id='Atlético Madrid', type='Organization', properties={})]\n",
            "Relationships:[Relationship(source=Node(id='Real Madrid', type='Organization', properties={}), target=Node(id='Madrid', type='Location', properties={}), type='LOCATED_IN', properties={}), Relationship(source=Node(id='Santiago Bernabéu', type='Location', properties={}), target=Node(id='Madrid', type='Location', properties={}), type='LOCATED_IN', properties={}), Relationship(source=Node(id='Real Madrid', type='Organization', properties={}), target=Node(id='Santiago Bernabéu', type='Location', properties={}), type='HOME_STADIUM', properties={}), Relationship(source=Node(id='Real Madrid', type='Organization', properties={}), target=Node(id='Fifa', type='Organization', properties={}), type='RECOGNIZED_BY', properties={}), Relationship(source=Node(id='Real Madrid', type='Organization', properties={}), target=Node(id='Iffhs', type='Organization', properties={}), type='RECOGNIZED_BY', properties={}), Relationship(source=Node(id='Real Madrid', type='Organization', properties={}), target=Node(id='Athletic Bilbao', type='Organization', properties={}), type='RIVAL', properties={}), Relationship(source=Node(id='Real Madrid', type='Organization', properties={}), target=Node(id='Barcelona', type='Organization', properties={}), type='RIVAL', properties={}), Relationship(source=Node(id='Real Madrid', type='Organization', properties={}), target=Node(id='Atlético Madrid', type='Organization', properties={}), type='RIVAL', properties={})]\n"
          ]
        }
      ]
    },
    {
      "cell_type": "code",
      "source": [
        "visualize_graph(graph_documents_nodes_defined, \"graph_documents_nodes_defined.html\")"
      ],
      "metadata": {
        "colab": {
          "base_uri": "https://localhost:8080/"
        },
        "id": "gzm29bkcVigi",
        "outputId": "b300c012-dd67-4a5a-bd9f-179c9d021127"
      },
      "execution_count": 38,
      "outputs": [
        {
          "output_type": "stream",
          "name": "stdout",
          "text": [
            "Graph saved to /content/graph_documents_nodes_defined.html\n"
          ]
        }
      ]
    },
    {
      "cell_type": "markdown",
      "source": [
        "# Extract specific types of relationships"
      ],
      "metadata": {
        "id": "RV7ngLUHV3ll"
      }
    },
    {
      "cell_type": "code",
      "source": [
        "allowed_nodes = [\"Person\", \"Organization\", \"Location\"]\n",
        "\n",
        "allowed_relationships = [\n",
        "    (\"Person\", \"WORKS_AT\", \"Organization\"),\n",
        "]\n",
        "graph_transformer_rel_defined = LLMGraphTransformer(\n",
        "  llm=llm,\n",
        "  allowed_nodes=allowed_nodes,\n",
        "  allowed_relationships=allowed_relationships\n",
        ")\n",
        "graph_documents_rel_defined = await graph_transformer_rel_defined.aconvert_to_graph_documents(documents)"
      ],
      "metadata": {
        "id": "roV8Aw7cVoQN"
      },
      "execution_count": 39,
      "outputs": []
    },
    {
      "cell_type": "code",
      "source": [
        "graph_documents_rel_defined[0].nodes"
      ],
      "metadata": {
        "colab": {
          "base_uri": "https://localhost:8080/"
        },
        "id": "0GOLSb9bWAB2",
        "outputId": "ccf36e9e-9f51-4558-b810-5907a5e6dc17"
      },
      "execution_count": 40,
      "outputs": [
        {
          "output_type": "execute_result",
          "data": {
            "text/plain": [
              "[Node(id='Real Madrid', type='Organization', properties={}),\n",
              " Node(id='King Alfonso Xiii', type='Person', properties={}),\n",
              " Node(id='Redone', type='Person', properties={}),\n",
              " Node(id='Manuel Jabois', type='Person', properties={}),\n",
              " Node(id='Florentino Pérez', type='Person', properties={}),\n",
              " Node(id='Cristiano Ronaldo', type='Person', properties={}),\n",
              " Node(id='Zinedine Zidane', type='Person', properties={}),\n",
              " Node(id='David Beckham', type='Person', properties={}),\n",
              " Node(id='Steve Mcmanaman', type='Person', properties={}),\n",
              " Node(id='Vinícius Júnior', type='Person', properties={}),\n",
              " Node(id='Rodrygo', type='Person', properties={}),\n",
              " Node(id='Jude Bellingham', type='Person', properties={})]"
            ]
          },
          "metadata": {},
          "execution_count": 40
        }
      ]
    },
    {
      "cell_type": "code",
      "source": [
        "graph_documents_rel_defined[0].relationships"
      ],
      "metadata": {
        "colab": {
          "base_uri": "https://localhost:8080/"
        },
        "id": "qSNN_pHLWB0w",
        "outputId": "10dd177a-f3f3-4ee4-81d1-b1cf3ce55935"
      },
      "execution_count": 41,
      "outputs": [
        {
          "output_type": "execute_result",
          "data": {
            "text/plain": [
              "[Relationship(source=Node(id='Redone', type='Person', properties={}), target=Node(id='Real Madrid', type='Organization', properties={}), type='WORKS_AT', properties={}),\n",
              " Relationship(source=Node(id='Manuel Jabois', type='Person', properties={}), target=Node(id='Real Madrid', type='Organization', properties={}), type='WORKS_AT', properties={}),\n",
              " Relationship(source=Node(id='Cristiano Ronaldo', type='Person', properties={}), target=Node(id='Real Madrid', type='Organization', properties={}), type='WORKS_AT', properties={}),\n",
              " Relationship(source=Node(id='Zinedine Zidane', type='Person', properties={}), target=Node(id='Real Madrid', type='Organization', properties={}), type='WORKS_AT', properties={}),\n",
              " Relationship(source=Node(id='David Beckham', type='Person', properties={}), target=Node(id='Real Madrid', type='Organization', properties={}), type='WORKS_AT', properties={}),\n",
              " Relationship(source=Node(id='Steve Mcmanaman', type='Person', properties={}), target=Node(id='Real Madrid', type='Organization', properties={}), type='WORKS_AT', properties={}),\n",
              " Relationship(source=Node(id='Vinícius Júnior', type='Person', properties={}), target=Node(id='Real Madrid', type='Organization', properties={}), type='WORKS_AT', properties={}),\n",
              " Relationship(source=Node(id='Rodrygo', type='Person', properties={}), target=Node(id='Real Madrid', type='Organization', properties={}), type='WORKS_AT', properties={}),\n",
              " Relationship(source=Node(id='Jude Bellingham', type='Person', properties={}), target=Node(id='Real Madrid', type='Organization', properties={}), type='WORKS_AT', properties={})]"
            ]
          },
          "metadata": {},
          "execution_count": 41
        }
      ]
    },
    {
      "cell_type": "code",
      "source": [
        "# Visualize graph\n",
        "visualize_graph(graph_documents_rel_defined, \"graph_documents_rel_defined.html\")"
      ],
      "metadata": {
        "colab": {
          "base_uri": "https://localhost:8080/"
        },
        "id": "Ac-CwqLzWL6V",
        "outputId": "0b69fb7e-0569-4478-b05e-0951f5600a45"
      },
      "execution_count": 42,
      "outputs": [
        {
          "output_type": "stream",
          "name": "stdout",
          "text": [
            "Graph saved to /content/graph_documents_rel_defined.html\n"
          ]
        }
      ]
    },
    {
      "cell_type": "code",
      "source": [],
      "metadata": {
        "id": "puWJ8P0zWN2h"
      },
      "execution_count": 42,
      "outputs": []
    }
  ]
}